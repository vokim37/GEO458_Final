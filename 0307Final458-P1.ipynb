{
 "cells": [
  {
   "cell_type": "markdown",
   "metadata": {},
   "source": [
    "#### Part 1:\n",
    "* Scrape the addresses of Amazon Headquarter buildings from [link](https://foursquare.com/npietran/list/amazon-buildings) and use geocoder to convert addresses into points with Lat & Long -> amazonPoints.shp\n",
    "* Perform Spatial Join between amazonPoints.shp and WA blocks.shp to extract blocks that contains amazonPoints -> amazonID.shp\n",
    "* Refer to ReadCSV.ipynb for processing CSV files\n",
    "* Create shapefiles that contain Amazon headquarter blocks and Employees' home blocks\n",
    "\n",
    "\n",
    "* **amazonPoints.shp**: locations of Amazon buildings\n",
    "* **amazonID.shp**: locations of Amazon Buildings with block ID attribute\n",
    "* **homeBlocks.shp**: blocks show where Amazon Headquarter employees located\n",
    "* **amazonBlock.shp**: blocks show where Amazon Headquarter buidling located"
   ]
  },
  {
   "cell_type": "code",
   "execution_count": 3,
   "metadata": {
    "collapsed": true
   },
   "outputs": [],
   "source": [
    "import urllib2, lxml, json, shapely, shapely.geometry, os, requests, pandas, geopandas, geocoder\n",
    "from lxml import html\n",
    "from pandas import DataFrame\n",
    "from shapely.geometry import Point\n",
    "from geopandas import GeoDataFrame"
   ]
  },
  {
   "cell_type": "code",
   "execution_count": 4,
   "metadata": {
    "collapsed": true
   },
   "outputs": [],
   "source": [
    "import sys\n",
    "sys.path.append('C:\\\\Program Files (x86)\\\\ArcGIS\\\\Desktop10.5\\\\bin')\n",
    "sys.path.append('C:\\\\Program Files (x86)\\\\ArcGIS\\\\Desktop10.5\\\\arcpy')\n",
    "sys.path.append('C:\\\\Program Files (x86)\\\\ArcGIS\\\\Desktop10.5\\\\ArcToolbox\\\\Scripts')\n",
    "import arcpy"
   ]
  },
  {
   "cell_type": "code",
   "execution_count": 5,
   "metadata": {
    "collapsed": true
   },
   "outputs": [],
   "source": [
    "# Set up working environemnt\n",
    "arcpy.env.workspace = \"U:\\\\GEOG458\\\\Final\"\n",
    "arcpy.env.overwriteOutput = True"
   ]
  },
  {
   "cell_type": "code",
   "execution_count": 6,
   "metadata": {
    "collapsed": true
   },
   "outputs": [],
   "source": [
    "# Scrape amazon headquarter addresses from the internet\n",
    "r = requests.get(\"https://foursquare.com/npietran/list/amazon-buildings\")\n",
    "raw = r.text\n",
    "\n",
    "name_start = \"</span>&nbsp;\"\n",
    "name_end = \"</a>\"\n",
    "start = 0\n",
    "addr_start = '<span class=\"address\">'\n",
    "addr_end = \"</span>\"\n",
    "\n",
    "name_addr = []\n",
    "\n",
    "while True:\n",
    "    start = raw.find(name_start, start)\n",
    "    if start == -1:\n",
    "        break\n",
    "    start += len(name_start)\n",
    "    \n",
    "    end = raw.find(name_end, start)\n",
    "    if end == -1:\n",
    "        break\n",
    "    \n",
    "    name = raw[start:end]\n",
    "    start = end + len(name_end)\n",
    "    \n",
    "    start = raw.find(addr_start, start)\n",
    "    start += len(addr_start)\n",
    "    end = raw.find(addr_end, start)\n",
    "    \n",
    "    addr = raw[start:end]\n",
    "    start = end + len(addr_end)\n",
    "    \n",
    "    name_addr.append([name, addr])\n",
    "\n",
    "del name_addr[14]"
   ]
  },
  {
   "cell_type": "code",
   "execution_count": 20,
   "metadata": {
    "collapsed": true
   },
   "outputs": [],
   "source": [
    "# Clean up addresses and put them into a dictionary\n",
    "import re\n",
    "data = {'Name':[], 'Address':[], 'lat':[], 'lng':[]}\n",
    "i = 0\n",
    "while i < len(name_addr):\n",
    "    data['Name'].append(name_addr[i][0])\n",
    "    data['Address'].append(re.sub(\"[\\(\\[].*?[\\)\\]]\", \"\",name_addr[i][1])) # Remove text inside ()\n",
    "    g = geocoder.arcgis(re.sub(\"[\\(\\[].*?[\\)\\]]\", \"\",name_addr[i][1]), maxRows=1)\n",
    "    data['lat'].append(g.lat)\n",
    "    data['lng'].append(g.lng)\n",
    "    i += 1"
   ]
  },
  {
   "cell_type": "code",
   "execution_count": 21,
   "metadata": {
    "collapsed": true
   },
   "outputs": [],
   "source": [
    "# Convert dictionary into geoDataFrame\n",
    "gdf = pandas.DataFrame(data,columns=['Name','Address','lat','lng'])\n",
    "geometry = [Point(xy) for xy in zip(gdf['lng'], gdf['lat'])] # Create point geometry\n",
    "crs = {'init': 'epsg:4269'}                                  # Set projection\n",
    "gdf = GeoDataFrame(gdf, crs=crs, geometry=geometry)"
   ]
  },
  {
   "cell_type": "code",
   "execution_count": 22,
   "metadata": {
    "collapsed": true
   },
   "outputs": [],
   "source": [
    "# Convert geoDataFrame to point shp\n",
    "gdf.to_file('amazonPoints.shp', driver = 'ESRI Shapefile')"
   ]
  },
  {
   "cell_type": "code",
   "execution_count": 31,
   "metadata": {},
   "outputs": [
    {
     "data": {
      "text/plain": [
       "<Result 'U:\\\\GEOG458\\\\Final\\\\amazonID.shp'>"
      ]
     },
     "execution_count": 31,
     "metadata": {},
     "output_type": "execute_result"
    }
   ],
   "source": [
    "# Add block GEOID to point shp\n",
    "arcpy.SpatialJoin_analysis('amazonPoints.shp', 'block.shp', 'amazonID.shp', '#', '#', '#', 'WITHIN')"
   ]
  },
  {
   "cell_type": "markdown",
   "metadata": {
    "collapsed": true
   },
   "source": [
    "###### We used 64bit environment to work with the csv files. New CSV file names:\n",
    "* OD15_Short.csv: Clean version of the original csv file from LODES\n",
    "* TotalJobsHomeBlocks.csv: Contains number of workers that live in the same block\n",
    "* TotalJobsWorkBlocks.csv: Contains number of workers that work in the same block\n",
    "###### Refer to ReadCSV.ipynb for the codes"
   ]
  },
  {
   "cell_type": "code",
   "execution_count": 19,
   "metadata": {
    "collapsed": true
   },
   "outputs": [],
   "source": [
    "# Open csv file of all home blocks with total number of jobs\n",
    "homeFile = pandas.read_csv(\"U:\\\\GEOG458\\\\Final\\\\TotalJobsHomeBlocks.csv\")\n",
    "homeId =  homeFile['Home'].apply(str).tolist() # Convert GEOId field from number to string"
   ]
  },
  {
   "cell_type": "code",
   "execution_count": 22,
   "metadata": {},
   "outputs": [
    {
     "data": {
      "text/plain": [
       "<Result 'U:\\\\GEOG458\\\\Final\\\\homeBlocks.shp'>"
      ]
     },
     "execution_count": 22,
     "metadata": {},
     "output_type": "execute_result"
    }
   ],
   "source": [
    "# Query out and create a new shapefile of blocks for where Amazon employees located\n",
    "# using GEOId field from the csv file\n",
    "arcpy.FeatureClassToFeatureClass_conversion('block.shp', 'U:\\\\GEOG458\\\\Final\\\\',\n",
    "                                            'homeBlocks.shp',\n",
    "                                            '\"GEOID10\" IN ' + str(tuple(homeId)))"
   ]
  },
  {
   "cell_type": "code",
   "execution_count": 23,
   "metadata": {
    "collapsed": true
   },
   "outputs": [],
   "source": [
    "# Open csv file of all Amazon headquarter blocks and total number of jobs\n",
    "workFile = pandas.read_csv(\"U:\\\\GEOG458\\\\Final\\\\TotalJobsWorkBlocks.csv\")\n",
    "workId =  workFile['Work'].apply(str).tolist()"
   ]
  },
  {
   "cell_type": "code",
   "execution_count": 24,
   "metadata": {
    "collapsed": true
   },
   "outputs": [
    {
     "data": {
      "text/plain": [
       "<Result 'U:\\\\GEOG458\\\\Final\\\\workBlocks.shp'>"
      ]
     },
     "execution_count": 24,
     "metadata": {},
     "output_type": "execute_result"
    }
   ],
   "source": [
    "# Query out and create a new shapefile of Amazon headquarter blocks\n",
    "# using GEOId field from the csv file\n",
    "arcpy.FeatureClassToFeatureClass_conversion('block.shp',\n",
    "                                            'U:\\\\GEOG458\\\\Final\\\\',\n",
    "                                            'amazonBlock.shp',\n",
    "                                            '\"GEOID10\" IN ' + str(tuple(workId)))"
   ]
  },
  {
   "cell_type": "code",
   "execution_count": null,
   "metadata": {
    "collapsed": true
   },
   "outputs": [],
   "source": []
  }
 ],
 "metadata": {
  "kernelspec": {
   "display_name": "Python 2",
   "language": "python",
   "name": "python2"
  },
  "language_info": {
   "codemirror_mode": {
    "name": "ipython",
    "version": 2
   },
   "file_extension": ".py",
   "mimetype": "text/x-python",
   "name": "python",
   "nbconvert_exporter": "python",
   "pygments_lexer": "ipython2",
   "version": "2.7.13"
  }
 },
 "nbformat": 4,
 "nbformat_minor": 2
}
