{
 "cells": [
  {
   "cell_type": "markdown",
   "metadata": {},
   "source": [
    "#### Process CSV files - run in 64bit environment\n",
    "* Clean up original csv file from LODES using GEOID from amazonID.shp\n",
    "* Export 2 csv files to show total jobs for each block for both Work and Home block shapefiles\n",
    "\n",
    "\n",
    "* **OD15.csv**: Original file from LODES\n",
    "* **OD15_Short.csv**: Contains only Amazon work and home blocks\n",
    "* **TotalJobsWorkBlocks.csv**: Contains number of workers that work in the same block\n",
    "* **TotalJobsHomeBlocks.csv**: Contains number of workers that live in the same block"
   ]
  },
  {
   "cell_type": "code",
   "execution_count": 1,
   "metadata": {
    "collapsed": true
   },
   "outputs": [],
   "source": [
    "import os, pandas, geopandas\n",
    "from pandas import DataFrame"
   ]
  },
  {
   "cell_type": "code",
   "execution_count": 3,
   "metadata": {
    "collapsed": true
   },
   "outputs": [],
   "source": [
    "# Use geopandas to read shp\n",
    "data = geopandas.read_file(\"U:\\\\GEOG458\\\\Final\\\\amazonID.shp\")"
   ]
  },
  {
   "cell_type": "code",
   "execution_count": 7,
   "metadata": {
    "collapsed": true
   },
   "outputs": [],
   "source": [
    "# Take out all block ID for amazon headquarter blocks\n",
    "blockID = data['GEOID10'].tolist()"
   ]
  },
  {
   "cell_type": "code",
   "execution_count": 10,
   "metadata": {
    "collapsed": true
   },
   "outputs": [],
   "source": [
    "# Use blockID to query out all workers who work for Amazon HQ\n",
    "# Story result in dictionary for later conversion\n",
    "od = pandas.read_csv(r'U:\\\\GEOG458\\\\Final\\\\OD15.csv')\n",
    "mydict = {'Work':[], 'Home':[],'TotJ':[]}\n",
    "# Loop through original csv and take out only work blocks contains in blockID \n",
    "for i, row in od.iterrows():\n",
    "    for item in blockID:\n",
    "        if str(row[0]) == item:\n",
    "            mydict['Work'].append(str(row[0]))\n",
    "            mydict['Home'].append(str(row[1]))\n",
    "            mydict['TotJ'].append(row[2])"
   ]
  },
  {
   "cell_type": "code",
   "execution_count": 11,
   "metadata": {
    "collapsed": true
   },
   "outputs": [],
   "source": [
    "# Convert dictionary to csv\n",
    "df = pandas.DataFrame(mydict)\n",
    "df.to_csv(\"U:\\\\GEOG458\\\\Final\\\\OD15_Short.csv\", sep=',')"
   ]
  },
  {
   "cell_type": "code",
   "execution_count": 13,
   "metadata": {
    "collapsed": true
   },
   "outputs": [],
   "source": [
    "# Use pandas to read csv file\n",
    "allBlocks = pandas.read_csv(\"U:\\\\GEOG458\\\\Final\\\\OD15_Short.csv\")"
   ]
  },
  {
   "cell_type": "markdown",
   "metadata": {},
   "source": [
    "##### The next step is to remove block duplication and to combine total number of workers in each work block as well as total number of workers live in the same block"
   ]
  },
  {
   "cell_type": "code",
   "execution_count": 16,
   "metadata": {
    "collapsed": true
   },
   "outputs": [],
   "source": [
    "# Group number of jobs in each work block\n",
    "dataSeries = allBlocks.groupby('Work')['TotJ'].sum()\n",
    "df = pandas.DataFrame(dataSeries, columns=['TotJ'])\n",
    "df.to_csv(\"U:\\\\GEOG458\\\\Final\\\\TotalJobsWorkBlocks.csv\")"
   ]
  },
  {
   "cell_type": "code",
   "execution_count": 19,
   "metadata": {
    "collapsed": true
   },
   "outputs": [],
   "source": [
    "# Group number of jobs in each home block\n",
    "dataSeries1 = allBlocks.groupby('Home')['TotJ'].sum()\n",
    "df1 = pandas.DataFrame(dataSeries1, columns=['TotJ'])\n",
    "df1.to_csv(\"U:\\\\GEOG458\\\\Final\\\\TotalJobsHomeBlocks.csv\")"
   ]
  }
 ],
 "metadata": {
  "kernelspec": {
   "display_name": "Python 2",
   "language": "python",
   "name": "python2"
  },
  "language_info": {
   "codemirror_mode": {
    "name": "ipython",
    "version": 2
   },
   "file_extension": ".py",
   "mimetype": "text/x-python",
   "name": "python",
   "nbconvert_exporter": "python",
   "pygments_lexer": "ipython2",
   "version": "2.7.13"
  }
 },
 "nbformat": 4,
 "nbformat_minor": 2
}
