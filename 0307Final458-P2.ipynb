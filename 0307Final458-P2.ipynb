{
 "cells": [
  {
   "cell_type": "markdown",
   "metadata": {},
   "source": [
    "##### Part 2:\n",
    "Join data into the shapefiles: median income, house value, total workers, and total jobs\n",
    "\n",
    "* **homeBlocks.shp**: blocks shp show where Amazon headquarter employees located\n",
    "* **houseValueBlocks.shp**: blocks shp show where Amazon headquarter employees located with median house value attribute\n",
    "* **incomeBlocks.shp**: blocks shp show where Amazon headquarter employees located with median income attribute\n",
    "* **amazonBlock.shp**: blocks show where Amazon Headquarter buidling located \n",
    "* **TotalJobsWorkBlocks.csv**: Contains number of workers that work in the same block\n",
    "* **TotalJobsHomeBlocks.csv**: Contains number of workers that live in the same block"
   ]
  },
  {
   "cell_type": "code",
   "execution_count": 6,
   "metadata": {
    "collapsed": true
   },
   "outputs": [],
   "source": [
    "import os, pandas\n",
    "from pandas import DataFrame"
   ]
  },
  {
   "cell_type": "code",
   "execution_count": 2,
   "metadata": {
    "collapsed": true
   },
   "outputs": [],
   "source": [
    "import sys\n",
    "sys.path.append('C:\\\\Program Files (x86)\\\\ArcGIS\\\\Desktop10.5\\\\bin')\n",
    "sys.path.append('C:\\\\Program Files (x86)\\\\ArcGIS\\\\Desktop10.5\\\\arcpy')\n",
    "sys.path.append('C:\\\\Program Files (x86)\\\\ArcGIS\\\\Desktop10.5\\\\ArcToolbox\\\\Scripts')\n",
    "import arcpy"
   ]
  },
  {
   "cell_type": "code",
   "execution_count": 3,
   "metadata": {
    "collapsed": true
   },
   "outputs": [],
   "source": [
    "# Set up working environment\n",
    "arcpy.env.workspace = \"U:\\\\GEOG458\\\\Final\"\n",
    "arcpy.env.overwriteOutput = True"
   ]
  },
  {
   "cell_type": "code",
   "execution_count": 4,
   "metadata": {},
   "outputs": [
    {
     "data": {
      "text/plain": [
       "<Result 'U:\\\\GEOG458\\\\Final\\\\houseValueBlocks.shp'>"
      ]
     },
     "execution_count": 4,
     "metadata": {},
     "output_type": "execute_result"
    }
   ],
   "source": [
    "# Add median house value to home blocks \n",
    "arcpy.SpatialJoin_analysis('homeBlocks.shp', '2016MedianHouseValue.shp', 'houseValueBlocks.shp', '#', '#', '#', 'WITHIN')"
   ]
  },
  {
   "cell_type": "code",
   "execution_count": 5,
   "metadata": {},
   "outputs": [
    {
     "data": {
      "text/plain": [
       "<Result 'U:\\\\GEOG458\\\\Final\\\\incomeBlocks.shp'>"
      ]
     },
     "execution_count": 5,
     "metadata": {},
     "output_type": "execute_result"
    }
   ],
   "source": [
    "# Add median income to home blocks\n",
    "arcpy.SpatialJoin_analysis('homeBlocks.shp', '2016MedianIncome.shp', 'incomeBlocks.shp', '#', '#', '#', 'WITHIN')"
   ]
  },
  {
   "cell_type": "code",
   "execution_count": 19,
   "metadata": {},
   "outputs": [
    {
     "data": {
      "text/plain": [
       "<Result 'U:\\\\GEOG458\\\\Final\\\\amazonBlock.shp'>"
      ]
     },
     "execution_count": 19,
     "metadata": {},
     "output_type": "execute_result"
    }
   ],
   "source": [
    "# Add field to store total number of jobs for each block\n",
    "arcpy.AddField_management('amazonBlock.shp','TOTAL_JOBS', \"DOUBLE\")"
   ]
  },
  {
   "cell_type": "code",
   "execution_count": 23,
   "metadata": {
    "collapsed": true
   },
   "outputs": [],
   "source": [
    "# Add number of jobs in each block\n",
    "workFile = pandas.read_csv(\"U:\\\\GEOG458\\\\Final\\\\TotalJobsWorkBlocks.csv\")\n",
    "with arcpy.da.UpdateCursor('amazonBlock.shp', ['GEOID10', 'TOTAL_JOBS']) as cursor:\n",
    "    for row in cursor:\n",
    "        for i, line in workFile.iterrows():\n",
    "            if (row[0] == str(line[0])):\n",
    "                row[1] = line[1]\n",
    "                break\n",
    "        cursor.updateRow(row)\n",
    "del cursor"
   ]
  },
  {
   "cell_type": "code",
   "execution_count": 24,
   "metadata": {},
   "outputs": [
    {
     "data": {
      "text/plain": [
       "<Result 'U:\\\\GEOG458\\\\Final\\\\houseValueBlocks.shp'>"
      ]
     },
     "execution_count": 24,
     "metadata": {},
     "output_type": "execute_result"
    }
   ],
   "source": [
    "# Add field to store number of workers live in same block for houseValueBlocks.shp\n",
    "arcpy.AddField_management('houseValueBlocks.shp','TOTAL_JOBS', \"DOUBLE\")"
   ]
  },
  {
   "cell_type": "code",
   "execution_count": 27,
   "metadata": {
    "collapsed": true
   },
   "outputs": [],
   "source": [
    "# Add number of workers live in same block for houseValueBlocks.shp\n",
    "houseFile = pandas.read_csv(\"U:\\\\GEOG458\\\\Final\\\\TotalJobsHomeBlocks.csv\")\n",
    "with arcpy.da.UpdateCursor('houseValueBlocks.shp', ['GEOID10', 'TOTAL_JOBS']) as cursor:\n",
    "    for row in cursor:\n",
    "        for i, line in houseFile.iterrows():\n",
    "            if (row[0] == str(line[0])):\n",
    "                row[1] = line[1]\n",
    "                break\n",
    "        cursor.updateRow(row)\n",
    "del cursor"
   ]
  },
  {
   "cell_type": "code",
   "execution_count": 4,
   "metadata": {
    "scrolled": true
   },
   "outputs": [
    {
     "data": {
      "text/plain": [
       "<Result 'incomeBlocks.shp'>"
      ]
     },
     "execution_count": 4,
     "metadata": {},
     "output_type": "execute_result"
    }
   ],
   "source": [
    "# Add field to store number of workers live in same block for incomeBlocks.shp\n",
    "arcpy.AddField_management('incomeBlocks.shp','TOTAL_JOBS', \"DOUBLE\")"
   ]
  },
  {
   "cell_type": "code",
   "execution_count": 7,
   "metadata": {
    "collapsed": true
   },
   "outputs": [],
   "source": [
    "# Add number of workers live in same block for incomeBlocks.shp\n",
    "houseFile = pandas.read_csv(\"U:\\\\GEOG458\\\\Final\\\\TotalJobsHomeBlocks.csv\")\n",
    "with arcpy.da.UpdateCursor('incomeBlocks.shp', ['GEOID10', 'TOTAL_JOBS']) as cursor:\n",
    "    for row in cursor:\n",
    "        for i, line in houseFile.iterrows():\n",
    "            if (row[0] == str(line[0])):\n",
    "                row[1] = line[1]\n",
    "                break\n",
    "        cursor.updateRow(row)\n",
    "del cursor"
   ]
  },
  {
   "cell_type": "code",
   "execution_count": null,
   "metadata": {
    "collapsed": true
   },
   "outputs": [],
   "source": []
  }
 ],
 "metadata": {
  "kernelspec": {
   "display_name": "Python 2",
   "language": "python",
   "name": "python2"
  },
  "language_info": {
   "codemirror_mode": {
    "name": "ipython",
    "version": 2
   },
   "file_extension": ".py",
   "mimetype": "text/x-python",
   "name": "python",
   "nbconvert_exporter": "python",
   "pygments_lexer": "ipython2",
   "version": "2.7.13"
  }
 },
 "nbformat": 4,
 "nbformat_minor": 2
}
